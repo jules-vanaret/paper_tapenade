{
 "cells": [
  {
   "cell_type": "markdown",
   "metadata": {},
   "source": [
    "## Multiscale analysis of spatial correlation between 2 signals"
   ]
  },
  {
   "cell_type": "code",
   "execution_count": null,
   "metadata": {},
   "outputs": [],
   "source": [
    "from tapenade.analysis.spatial_correlation import (\n",
    "    SpatialCorrelationPlotter\n",
    ")\n",
    "from pathlib import Path\n",
    "import tifffile\n",
    "import numpy as np\n",
    "from tapenade.preprocessing._preprocessing import change_array_pixelsize,normalize_intensity"
   ]
  },
  {
   "cell_type": "markdown",
   "metadata": {},
   "source": [
    "### 1. Data loading"
   ]
  },
  {
   "cell_type": "markdown",
   "metadata": {},
   "source": [
    "Load your the two signals that you wish to study the correlation between. If raw image data is loaded, the correlation will be studied at the smallest scale (voxel). To study the correlation at larger scales, we recommend applying our masked gaussian filter method, as presented in the `masked_gaussian_smoothing` notebook."
   ]
  },
  {
   "cell_type": "code",
   "execution_count": null,
   "metadata": {},
   "outputs": [],
   "source": [
    "folder = folder = Path(globals()['_dh'][0]).parents[2] / 'data'\n",
    "path_to_signal = Path(folder) / '2k_Hoechst_FoxA2_Oct4_Bra_78h/big/data/1.tif'\n",
    "path_to_mask =  Path(folder) / '2k_Hoechst_FoxA2_Oct4_Bra_78h/big/masks/1_mask.tif'\n",
    "path_to_labels = Path(folder) / '2k_Hoechst_FoxA2_Oct4_Bra_78h/big/segmentation/1_seg.tif'\n",
    "mask = tifffile.imread(path_to_mask)\n",
    "labels = tifffile.imread(path_to_labels)\n",
    "signal = tifffile.imread(path_to_signal)\n",
    "hoechst = signal[:,0,:,:]\n",
    "foxa2 = signal[:,1,:,:]\n",
    "oct4 = signal[:,2,:,:]\n",
    "bra = signal[:,3,:,:]"
   ]
  },
  {
   "cell_type": "code",
   "execution_count": null,
   "metadata": {},
   "outputs": [],
   "source": [
    "oct4 = change_array_pixelsize(oct4, input_pixelsize=(1,0.6,0.6))\n",
    "foxa2 = change_array_pixelsize(foxa2, input_pixelsize=(1,0.6,0.6))\n",
    "hoechst = change_array_pixelsize(hoechst, input_pixelsize=(1,0.6,0.6))\n",
    "mask = (change_array_pixelsize(mask, input_pixelsize=(1,0.6,0.6),order=0)).astype(int)\n",
    "labels = (change_array_pixelsize(labels, input_pixelsize=(1,0.6,0.6),order=0)).astype(int)\n",
    "\n",
    "foxa2_norm = normalize_intensity(foxa2,ref_image=hoechst,image_wavelength=488,sigma=11)\n",
    "oct4_norm = normalize_intensity(oct4,ref_image=hoechst,image_wavelength=555,sigma=11)"
   ]
  },
  {
   "cell_type": "code",
   "execution_count": null,
   "metadata": {},
   "outputs": [],
   "source": [
    "import napari\n",
    "viewer = napari.Viewer()\n",
    "viewer.add_image(foxa2*mask,name='foxa2',colormap='gray_r')\n",
    "viewer.add_image(oct4*mask,name='Oct4',colormap='gray_r')\n",
    "viewer.add_image(foxa2_norm*mask,name='foxa2_norm',colormap='gray_r')\n",
    "viewer.add_image(oct4_norm*mask,name='oct4_norm',colormap='gray_r')\n",
    "\n",
    "for l in viewer.layers:\n",
    "    l.data = np.transpose(l.data, (1, 0, 2))\n",
    "\n",
    "viewer.grid.enabled = True\n",
    "viewer.grid.shape = (2, 2)\n",
    "viewer.grid.stride = -1\n",
    "\n",
    "napari.run()"
   ]
  },
  {
   "cell_type": "markdown",
   "metadata": {},
   "source": [
    "### 2. Initializing the plotter"
   ]
  },
  {
   "cell_type": "markdown",
   "metadata": {},
   "source": [
    "Initializing the plotter once allows you to test several parameters of the visualization without reprocessing the data."
   ]
  },
  {
   "cell_type": "code",
   "execution_count": null,
   "metadata": {},
   "outputs": [],
   "source": [
    "spatial_correlation_plotter_oct4_foxa2_norm = SpatialCorrelationPlotter(\n",
    "    quantity_X=oct4_norm,\n",
    "    quantity_Y=foxa2_norm,\n",
    "    mask=mask,\n",
    "    labels=labels,\n",
    "\n",
    ")\n",
    "spatial_correlation_plotter_oct4_foxa2 = SpatialCorrelationPlotter(\n",
    "    quantity_X=oct4,\n",
    "    quantity_Y=foxa2,\n",
    "    mask=mask,\n",
    "    labels=labels,\n",
    "\n",
    ")"
   ]
  },
  {
   "cell_type": "markdown",
   "metadata": {},
   "source": [
    "Plot the correlation:"
   ]
  },
  {
   "cell_type": "code",
   "execution_count": null,
   "metadata": {},
   "outputs": [],
   "source": [
    "lim_foxa2=200\n",
    "lim_oct4=80\n",
    "bins=70\n",
    "fig, ax = spatial_correlation_plotter_oct4_foxa2.get_heatmap_figure(\n",
    "    show_linear_fit=False,\n",
    "    show_individual_cells=True,\n",
    "    display_quadrants=True,\n",
    "    bins=[bins,bins],\n",
    "    extent_X = (0,lim_oct4),\n",
    "    extent_Y = (0,lim_foxa2),\n",
    "    label_X='Oct4',\n",
    "    label_Y='Foxa2',\n",
    ")\n",
    "# plt.savefig(Path(folder)/ 'S8g_unnormalized.png',dpi=300)\n",
    "fig, ax = spatial_correlation_plotter_oct4_foxa2_norm.get_heatmap_figure(\n",
    "    show_linear_fit=False,\n",
    "    \n",
    "    show_individual_cells=True,\n",
    "    display_quadrants=True,\n",
    "    bins=[bins,bins],\n",
    "    extent_X = (0,lim_oct4),\n",
    "    extent_Y = (0,lim_foxa2),\n",
    "    label_X='Oct4',\n",
    "    label_Y='Foxa2',\n",
    ")\n",
    "\n",
    "fig.show()\n",
    "# plt.savefig(Path(folder)/ 'S8g_normalized.png',dpi=300)"
   ]
  }
 ],
 "metadata": {
  "kernelspec": {
   "display_name": "napari-mine",
   "language": "python",
   "name": "python3"
  },
  "language_info": {
   "codemirror_mode": {
    "name": "ipython",
    "version": 3
   },
   "file_extension": ".py",
   "mimetype": "text/x-python",
   "name": "python",
   "nbconvert_exporter": "python",
   "pygments_lexer": "ipython3",
   "version": "3.10.14"
  }
 },
 "nbformat": 4,
 "nbformat_minor": 2
}
